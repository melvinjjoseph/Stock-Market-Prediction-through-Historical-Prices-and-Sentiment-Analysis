{
 "cells": [
  {
   "cell_type": "code",
   "execution_count": 2,
   "metadata": {},
   "outputs": [
    {
     "name": "stdout",
     "output_type": "stream",
     "text": [
      "Requirement already satisfied: transformers in c:\\users\\nihaltm\\appdata\\local\\programs\\python\\python311\\lib\\site-packages (4.35.2)\n",
      "Requirement already satisfied: filelock in c:\\users\\nihaltm\\appdata\\local\\programs\\python\\python311\\lib\\site-packages (from transformers) (3.13.1)\n",
      "Requirement already satisfied: huggingface-hub<1.0,>=0.16.4 in c:\\users\\nihaltm\\appdata\\local\\programs\\python\\python311\\lib\\site-packages (from transformers) (0.19.4)\n",
      "Requirement already satisfied: numpy>=1.17 in c:\\users\\nihaltm\\appdata\\local\\programs\\python\\python311\\lib\\site-packages (from transformers) (1.26.2)\n",
      "Requirement already satisfied: packaging>=20.0 in c:\\users\\nihaltm\\appdata\\local\\programs\\python\\python311\\lib\\site-packages (from transformers) (23.2)\n",
      "Requirement already satisfied: pyyaml>=5.1 in c:\\users\\nihaltm\\appdata\\local\\programs\\python\\python311\\lib\\site-packages (from transformers) (6.0.1)\n",
      "Requirement already satisfied: regex!=2019.12.17 in c:\\users\\nihaltm\\appdata\\local\\programs\\python\\python311\\lib\\site-packages (from transformers) (2023.10.3)\n",
      "Requirement already satisfied: requests in c:\\users\\nihaltm\\appdata\\local\\programs\\python\\python311\\lib\\site-packages (from transformers) (2.31.0)\n",
      "Requirement already satisfied: tokenizers<0.19,>=0.14 in c:\\users\\nihaltm\\appdata\\local\\programs\\python\\python311\\lib\\site-packages (from transformers) (0.15.0)\n",
      "Requirement already satisfied: safetensors>=0.3.1 in c:\\users\\nihaltm\\appdata\\local\\programs\\python\\python311\\lib\\site-packages (from transformers) (0.4.1)\n",
      "Requirement already satisfied: tqdm>=4.27 in c:\\users\\nihaltm\\appdata\\local\\programs\\python\\python311\\lib\\site-packages (from transformers) (4.66.1)\n",
      "Requirement already satisfied: fsspec>=2023.5.0 in c:\\users\\nihaltm\\appdata\\local\\programs\\python\\python311\\lib\\site-packages (from huggingface-hub<1.0,>=0.16.4->transformers) (2023.10.0)\n",
      "Requirement already satisfied: typing-extensions>=3.7.4.3 in c:\\users\\nihaltm\\appdata\\local\\programs\\python\\python311\\lib\\site-packages (from huggingface-hub<1.0,>=0.16.4->transformers) (4.10.0)\n",
      "Requirement already satisfied: colorama in c:\\users\\nihaltm\\appdata\\local\\programs\\python\\python311\\lib\\site-packages (from tqdm>=4.27->transformers) (0.4.6)\n",
      "Requirement already satisfied: charset-normalizer<4,>=2 in c:\\users\\nihaltm\\appdata\\local\\programs\\python\\python311\\lib\\site-packages (from requests->transformers) (3.3.2)\n",
      "Requirement already satisfied: idna<4,>=2.5 in c:\\users\\nihaltm\\appdata\\local\\programs\\python\\python311\\lib\\site-packages (from requests->transformers) (3.4)\n",
      "Requirement already satisfied: urllib3<3,>=1.21.1 in c:\\users\\nihaltm\\appdata\\local\\programs\\python\\python311\\lib\\site-packages (from requests->transformers) (2.1.0)\n",
      "Requirement already satisfied: certifi>=2017.4.17 in c:\\users\\nihaltm\\appdata\\local\\programs\\python\\python311\\lib\\site-packages (from requests->transformers) (2023.7.22)\n"
     ]
    },
    {
     "name": "stderr",
     "output_type": "stream",
     "text": [
      "\n",
      "[notice] A new release of pip is available: 23.3.1 -> 24.0\n",
      "[notice] To update, run: python.exe -m pip install --upgrade pip\n"
     ]
    },
    {
     "name": "stdout",
     "output_type": "stream",
     "text": [
      "Requirement already satisfied: numpy in c:\\users\\nihaltm\\appdata\\local\\programs\\python\\python311\\lib\\site-packages (1.26.2)"
     ]
    },
    {
     "name": "stderr",
     "output_type": "stream",
     "text": [
      "\n",
      "[notice] A new release of pip is available: 23.3.1 -> 24.0\n",
      "[notice] To update, run: python.exe -m pip install --upgrade pip\n"
     ]
    },
    {
     "name": "stdout",
     "output_type": "stream",
     "text": [
      "\n",
      "Requirement already satisfied: pandas in c:\\users\\nihaltm\\appdata\\local\\programs\\python\\python311\\lib\\site-packages (2.1.3)\n",
      "Requirement already satisfied: numpy<2,>=1.23.2 in c:\\users\\nihaltm\\appdata\\local\\programs\\python\\python311\\lib\\site-packages (from pandas) (1.26.2)\n",
      "Requirement already satisfied: python-dateutil>=2.8.2 in c:\\users\\nihaltm\\appdata\\local\\programs\\python\\python311\\lib\\site-packages (from pandas) (2.8.2)\n",
      "Requirement already satisfied: pytz>=2020.1 in c:\\users\\nihaltm\\appdata\\local\\programs\\python\\python311\\lib\\site-packages (from pandas) (2023.3.post1)\n",
      "Requirement already satisfied: tzdata>=2022.1 in c:\\users\\nihaltm\\appdata\\local\\programs\\python\\python311\\lib\\site-packages (from pandas) (2023.3)\n",
      "Requirement already satisfied: six>=1.5 in c:\\users\\nihaltm\\appdata\\local\\programs\\python\\python311\\lib\\site-packages (from python-dateutil>=2.8.2->pandas) (1.16.0)\n"
     ]
    },
    {
     "name": "stderr",
     "output_type": "stream",
     "text": [
      "\n",
      "[notice] A new release of pip is available: 23.3.1 -> 24.0\n",
      "[notice] To update, run: python.exe -m pip install --upgrade pip\n"
     ]
    }
   ],
   "source": [
    "!pip install transformers\n",
    "!pip install numpy\n",
    "!pip install pandas"
   ]
  },
  {
   "cell_type": "code",
   "execution_count": 3,
   "metadata": {},
   "outputs": [],
   "source": [
    "from transformers import pipeline\n",
    "import textwrap\n",
    "import numpy as np\n",
    "import pandas as pd\n",
    "from pprint import pprint\n"
   ]
  },
  {
   "cell_type": "code",
   "execution_count": 4,
   "metadata": {},
   "outputs": [],
   "source": [
    "df = pd.read_csv(\"Team_15_Dataset_Stock_Market_Analysis.csv\")"
   ]
  },
  {
   "cell_type": "code",
   "execution_count": 5,
   "metadata": {},
   "outputs": [
    {
     "data": {
      "text/html": [
       "<div>\n",
       "<style scoped>\n",
       "    .dataframe tbody tr th:only-of-type {\n",
       "        vertical-align: middle;\n",
       "    }\n",
       "\n",
       "    .dataframe tbody tr th {\n",
       "        vertical-align: top;\n",
       "    }\n",
       "\n",
       "    .dataframe thead th {\n",
       "        text-align: right;\n",
       "    }\n",
       "</style>\n",
       "<table border=\"1\" class=\"dataframe\">\n",
       "  <thead>\n",
       "    <tr style=\"text-align: right;\">\n",
       "      <th></th>\n",
       "      <th>Date</th>\n",
       "      <th>Open</th>\n",
       "      <th>High</th>\n",
       "      <th>Low</th>\n",
       "      <th>Close</th>\n",
       "      <th>Adj Close</th>\n",
       "      <th>Volume</th>\n",
       "      <th>Titles</th>\n",
       "    </tr>\n",
       "  </thead>\n",
       "  <tbody>\n",
       "    <tr>\n",
       "      <th>0</th>\n",
       "      <td>2019-03-13</td>\n",
       "      <td>184.449997</td>\n",
       "      <td>184.899994</td>\n",
       "      <td>180.399994</td>\n",
       "      <td>181.699997</td>\n",
       "      <td>181.135452</td>\n",
       "      <td>9769821.0</td>\n",
       "      <td>NaN</td>\n",
       "    </tr>\n",
       "    <tr>\n",
       "      <th>1</th>\n",
       "      <td>2019-03-14</td>\n",
       "      <td>181.500000</td>\n",
       "      <td>182.449997</td>\n",
       "      <td>177.649994</td>\n",
       "      <td>179.550003</td>\n",
       "      <td>178.992142</td>\n",
       "      <td>15737080.0</td>\n",
       "      <td>Geneva 2019: Tata Motors To Reveal New Generat...</td>\n",
       "    </tr>\n",
       "    <tr>\n",
       "      <th>2</th>\n",
       "      <td>2019-03-15</td>\n",
       "      <td>180.199997</td>\n",
       "      <td>181.399994</td>\n",
       "      <td>177.600006</td>\n",
       "      <td>180.000000</td>\n",
       "      <td>179.440735</td>\n",
       "      <td>17490993.0</td>\n",
       "      <td>Not just Tata Motors, a lot of other companies...</td>\n",
       "    </tr>\n",
       "    <tr>\n",
       "      <th>3</th>\n",
       "      <td>2019-03-17</td>\n",
       "      <td>NaN</td>\n",
       "      <td>NaN</td>\n",
       "      <td>NaN</td>\n",
       "      <td>NaN</td>\n",
       "      <td>NaN</td>\n",
       "      <td>NaN</td>\n",
       "      <td>Geneva 2019: Tata Motors To Reveal New Generat...</td>\n",
       "    </tr>\n",
       "    <tr>\n",
       "      <th>4</th>\n",
       "      <td>2019-03-18</td>\n",
       "      <td>181.000000</td>\n",
       "      <td>184.699997</td>\n",
       "      <td>179.500000</td>\n",
       "      <td>182.250000</td>\n",
       "      <td>181.683746</td>\n",
       "      <td>14690339.0</td>\n",
       "      <td>NaN</td>\n",
       "    </tr>\n",
       "  </tbody>\n",
       "</table>\n",
       "</div>"
      ],
      "text/plain": [
       "         Date        Open        High         Low       Close   Adj Close  \\\n",
       "0  2019-03-13  184.449997  184.899994  180.399994  181.699997  181.135452   \n",
       "1  2019-03-14  181.500000  182.449997  177.649994  179.550003  178.992142   \n",
       "2  2019-03-15  180.199997  181.399994  177.600006  180.000000  179.440735   \n",
       "3  2019-03-17         NaN         NaN         NaN         NaN         NaN   \n",
       "4  2019-03-18  181.000000  184.699997  179.500000  182.250000  181.683746   \n",
       "\n",
       "       Volume                                             Titles  \n",
       "0   9769821.0                                                NaN  \n",
       "1  15737080.0  Geneva 2019: Tata Motors To Reveal New Generat...  \n",
       "2  17490993.0  Not just Tata Motors, a lot of other companies...  \n",
       "3         NaN  Geneva 2019: Tata Motors To Reveal New Generat...  \n",
       "4  14690339.0                                                NaN  "
      ]
     },
     "execution_count": 5,
     "metadata": {},
     "output_type": "execute_result"
    }
   ],
   "source": [
    "df.head()"
   ]
  },
  {
   "cell_type": "code",
   "execution_count": 6,
   "metadata": {},
   "outputs": [],
   "source": [
    "def wrap(x):\n",
    "    return textwrap.fill(x, replace_whitespace=False, fix_sentence_endings=True)"
   ]
  },
  {
   "cell_type": "code",
   "execution_count": 7,
   "metadata": {},
   "outputs": [
    {
     "name": "stdout",
     "output_type": "stream",
     "text": [
      "Geneva 2019: Tata Motors To Reveal New Generation Passenger Vehicles.\n",
      "Tata Harrier receives over 10000 bookings in India since launch.  Not\n",
      "just Tata Motors, a lot of other companies are excited by Jaguar Land\n",
      "Rover numbers.\n"
     ]
    }
   ],
   "source": [
    "example = wrap(df['Titles'][1])\n",
    "print(example)"
   ]
  },
  {
   "cell_type": "code",
   "execution_count": 8,
   "metadata": {},
   "outputs": [
    {
     "name": "stderr",
     "output_type": "stream",
     "text": [
      "No model was supplied, defaulted to sshleifer/distilbart-cnn-12-6 and revision a4f8f3e (https://huggingface.co/sshleifer/distilbart-cnn-12-6).\n",
      "Using a pipeline without specifying a model name and revision in production is not recommended.\n"
     ]
    }
   ],
   "source": [
    "summarizer = pipeline('summarization')      # Uses distilbart-cnn-12-6 model by default (Abstractive summarization technique)"
   ]
  },
  {
   "cell_type": "code",
   "execution_count": 9,
   "metadata": {},
   "outputs": [
    {
     "name": "stderr",
     "output_type": "stream",
     "text": [
      "Your max_length is set to 142, but your input_length is only 52. Since this is a summarization task, where outputs shorter than the input are typically wanted, you might consider decreasing max_length manually, e.g. summarizer('...', max_length=26)\n"
     ]
    },
    {
     "name": "stdout",
     "output_type": "stream",
     "text": [
      " Tata Harrier receives over 10000 bookings in India since launch . Jaguar Land Rover receives over 10,000 bookings since launch in India . Tata Motors to unveil new generation of vehicles in Geneva, Geneva, Germany, Switzerland next month . Tata also set to unveil a new vehicle in Geneva next week .\n"
     ]
    }
   ],
   "source": [
    "prompt = summarizer(wrap(df['Titles'][1]))[0]['summary_text']\n",
    "print(prompt)"
   ]
  },
  {
   "cell_type": "code",
   "execution_count": 10,
   "metadata": {},
   "outputs": [],
   "source": [
    "# from transformers import pipeline\n",
    "# classifier = pipeline(task=\"text-classification\", model=\"mrm8488/distilroberta-finetuned-financial-news-sentiment-analysis\", top_k=None)\n",
    "\n",
    "# sentences = [title for title in df['Titles'].fillna('')]\n",
    "\n",
    "# # declare a new dataframe with labels positive, negative and neutral\n",
    "# df = pd.DataFrame(columns=['Positive', 'Negative', 'Neutral'])\n",
    "\n",
    "# for title in sentences[:5]:\n",
    "#     model_outputs = classifier(title)\n",
    "#     print(model_outputs[0])\n",
    "\n"
   ]
  },
  {
   "cell_type": "code",
   "execution_count": 11,
   "metadata": {},
   "outputs": [
    {
     "data": {
      "text/plain": [
       "<bound method NDFrame.head of             Date         Open         High          Low        Close  \\\n",
       "0     2019-03-13   184.449997   184.899994   180.399994   181.699997   \n",
       "1     2019-03-14   181.500000   182.449997   177.649994   179.550003   \n",
       "2     2019-03-15   180.199997   181.399994   177.600006   180.000000   \n",
       "3     2019-03-17          NaN          NaN          NaN          NaN   \n",
       "4     2019-03-18   181.000000   184.699997   179.500000   182.250000   \n",
       "...          ...          ...          ...          ...          ...   \n",
       "1633  2024-03-07  1025.000000  1047.000000  1014.049988  1039.300049   \n",
       "1634  2024-03-09          NaN          NaN          NaN          NaN   \n",
       "1635  2024-03-11  1034.750000  1035.949951  1021.000000  1028.000000   \n",
       "1636  2024-03-12  1027.800049  1037.000000  1011.299988  1016.500000   \n",
       "1637  2024-03-13  1019.000000  1021.000000   985.000000   995.299988   \n",
       "\n",
       "        Adj Close      Volume  \\\n",
       "0      181.135452   9769821.0   \n",
       "1      178.992142  15737080.0   \n",
       "2      179.440735  17490993.0   \n",
       "3             NaN         NaN   \n",
       "4      181.683746  14690339.0   \n",
       "...           ...         ...   \n",
       "1633  1039.300049  16877082.0   \n",
       "1634          NaN         NaN   \n",
       "1635  1028.000000   7502450.0   \n",
       "1636  1016.500000   8763820.0   \n",
       "1637   995.299988   8405415.0   \n",
       "\n",
       "                                                 Titles  \n",
       "0                                                   NaN  \n",
       "1     Geneva 2019: Tata Motors To Reveal New Generat...  \n",
       "2     Not just Tata Motors, a lot of other companies...  \n",
       "3     Geneva 2019: Tata Motors To Reveal New Generat...  \n",
       "4                                                   NaN  \n",
       "...                                                 ...  \n",
       "1633                                                NaN  \n",
       "1634  Happy Women's Day 2024: 9 wishes, quotes and m...  \n",
       "1635                                                NaN  \n",
       "1636                                                NaN  \n",
       "1637                                                NaN  \n",
       "\n",
       "[1638 rows x 8 columns]>"
      ]
     },
     "execution_count": 11,
     "metadata": {},
     "output_type": "execute_result"
    }
   ],
   "source": [
    "df.head"
   ]
  },
  {
   "cell_type": "code",
   "execution_count": 30,
   "metadata": {},
   "outputs": [
    {
     "name": "stdout",
     "output_type": "stream",
     "text": [
      "       Neutral  Negative  Positive\n",
      "0     0.999858  0.000085  0.000058\n",
      "1     0.001159  0.000286  0.998555\n",
      "2     0.001232  0.000302  0.998467\n",
      "3     0.999858  0.000053  0.000089\n",
      "4     0.999858  0.000085  0.000058\n",
      "...        ...       ...       ...\n",
      "1633  0.999858  0.000085  0.000058\n",
      "1634  0.000644  0.000256  0.999100\n",
      "1635  0.999858  0.000085  0.000058\n",
      "1636  0.999858  0.000085  0.000058\n",
      "1637  0.999858  0.000085  0.000058\n",
      "\n",
      "[1638 rows x 3 columns]\n"
     ]
    }
   ],
   "source": [
    "import pandas as pd\n",
    "from transformers import pipeline\n",
    "\n",
    "# Load sentiment analysis pipeline\n",
    "classifier = pipeline(task=\"text-classification\", model=\"mrm8488/distilroberta-finetuned-financial-news-sentiment-analysis\", top_k=None)\n",
    "\n",
    "# declare a new dataframe with labels positive, negative and neutral\n",
    "new_df = pd.DataFrame()\n",
    "\n",
    "# Function to classify sentiment and update the DataFrame\n",
    "def classify_sentiment(title):\n",
    "  model_outputs = classifier(title)\n",
    "  if not model_outputs:\n",
    "      return pd.Series({'Positive': 0, 'Negative': 0, 'Neutral': 1})\n",
    "  \n",
    "  sentiment_mapping = {'positive': 0, 'negative': 1, 'neutral': 2}\n",
    "  sorted_outputs = sorted(model_outputs[0], key=lambda x: sentiment_mapping[x['label']], reverse=True)\n",
    "\n",
    "# Return a Series with the scores\n",
    "  return pd.Series({\n",
    "    'Neutral': sorted_outputs[0]['score'] if sorted_outputs[0]['label'] == 'neutral' else 0,\n",
    "    'Negative': sorted_outputs[1]['score'] if sorted_outputs[1]['label'] == 'negative' else 0,\n",
    "    'Positive': sorted_outputs[2]['score'] if sorted_outputs[2]['label'] == 'positive' else 0\n",
    "})\n",
    "\n",
    "\n",
    "# # Classify sentiment for each title and update the new DataFrame\n",
    "new_df = pd.concat([new_df, df['Titles'].fillna('').apply(classify_sentiment)], axis=1)\n",
    "\n",
    "\n",
    "# # Display the new DataFrame\n",
    "print(new_df)\n"
   ]
  },
  {
   "cell_type": "code",
   "execution_count": 41,
   "metadata": {},
   "outputs": [
    {
     "data": {
      "text/html": [
       "<div>\n",
       "<style scoped>\n",
       "    .dataframe tbody tr th:only-of-type {\n",
       "        vertical-align: middle;\n",
       "    }\n",
       "\n",
       "    .dataframe tbody tr th {\n",
       "        vertical-align: top;\n",
       "    }\n",
       "\n",
       "    .dataframe thead th {\n",
       "        text-align: right;\n",
       "    }\n",
       "</style>\n",
       "<table border=\"1\" class=\"dataframe\">\n",
       "  <thead>\n",
       "    <tr style=\"text-align: right;\">\n",
       "      <th></th>\n",
       "      <th>Date</th>\n",
       "      <th>Open</th>\n",
       "      <th>High</th>\n",
       "      <th>Low</th>\n",
       "      <th>Close</th>\n",
       "      <th>Adj Close</th>\n",
       "      <th>Volume</th>\n",
       "      <th>Titles</th>\n",
       "    </tr>\n",
       "  </thead>\n",
       "  <tbody>\n",
       "    <tr>\n",
       "      <th>0</th>\n",
       "      <td>2019-03-13</td>\n",
       "      <td>184.449997</td>\n",
       "      <td>184.899994</td>\n",
       "      <td>180.399994</td>\n",
       "      <td>181.699997</td>\n",
       "      <td>181.135452</td>\n",
       "      <td>9769821.0</td>\n",
       "      <td>NaN</td>\n",
       "    </tr>\n",
       "    <tr>\n",
       "      <th>1</th>\n",
       "      <td>2019-03-14</td>\n",
       "      <td>181.500000</td>\n",
       "      <td>182.449997</td>\n",
       "      <td>177.649994</td>\n",
       "      <td>179.550003</td>\n",
       "      <td>178.992142</td>\n",
       "      <td>15737080.0</td>\n",
       "      <td>Geneva 2019: Tata Motors To Reveal New Generat...</td>\n",
       "    </tr>\n",
       "    <tr>\n",
       "      <th>2</th>\n",
       "      <td>2019-03-15</td>\n",
       "      <td>180.199997</td>\n",
       "      <td>181.399994</td>\n",
       "      <td>177.600006</td>\n",
       "      <td>180.000000</td>\n",
       "      <td>179.440735</td>\n",
       "      <td>17490993.0</td>\n",
       "      <td>Not just Tata Motors, a lot of other companies...</td>\n",
       "    </tr>\n",
       "    <tr>\n",
       "      <th>3</th>\n",
       "      <td>2019-03-17</td>\n",
       "      <td>NaN</td>\n",
       "      <td>NaN</td>\n",
       "      <td>NaN</td>\n",
       "      <td>NaN</td>\n",
       "      <td>NaN</td>\n",
       "      <td>NaN</td>\n",
       "      <td>Geneva 2019: Tata Motors To Reveal New Generat...</td>\n",
       "    </tr>\n",
       "    <tr>\n",
       "      <th>4</th>\n",
       "      <td>2019-03-18</td>\n",
       "      <td>181.000000</td>\n",
       "      <td>184.699997</td>\n",
       "      <td>179.500000</td>\n",
       "      <td>182.250000</td>\n",
       "      <td>181.683746</td>\n",
       "      <td>14690339.0</td>\n",
       "      <td>NaN</td>\n",
       "    </tr>\n",
       "  </tbody>\n",
       "</table>\n",
       "</div>"
      ],
      "text/plain": [
       "         Date        Open        High         Low       Close   Adj Close  \\\n",
       "0  2019-03-13  184.449997  184.899994  180.399994  181.699997  181.135452   \n",
       "1  2019-03-14  181.500000  182.449997  177.649994  179.550003  178.992142   \n",
       "2  2019-03-15  180.199997  181.399994  177.600006  180.000000  179.440735   \n",
       "3  2019-03-17         NaN         NaN         NaN         NaN         NaN   \n",
       "4  2019-03-18  181.000000  184.699997  179.500000  182.250000  181.683746   \n",
       "\n",
       "       Volume                                             Titles  \n",
       "0   9769821.0                                                NaN  \n",
       "1  15737080.0  Geneva 2019: Tata Motors To Reveal New Generat...  \n",
       "2  17490993.0  Not just Tata Motors, a lot of other companies...  \n",
       "3         NaN  Geneva 2019: Tata Motors To Reveal New Generat...  \n",
       "4  14690339.0                                                NaN  "
      ]
     },
     "execution_count": 41,
     "metadata": {},
     "output_type": "execute_result"
    }
   ],
   "source": [
    "df.head()"
   ]
  },
  {
   "cell_type": "code",
   "execution_count": 40,
   "metadata": {},
   "outputs": [
    {
     "data": {
      "text/html": [
       "<div>\n",
       "<style scoped>\n",
       "    .dataframe tbody tr th:only-of-type {\n",
       "        vertical-align: middle;\n",
       "    }\n",
       "\n",
       "    .dataframe tbody tr th {\n",
       "        vertical-align: top;\n",
       "    }\n",
       "\n",
       "    .dataframe thead th {\n",
       "        text-align: right;\n",
       "    }\n",
       "</style>\n",
       "<table border=\"1\" class=\"dataframe\">\n",
       "  <thead>\n",
       "    <tr style=\"text-align: right;\">\n",
       "      <th></th>\n",
       "      <th>Neutral</th>\n",
       "      <th>Negative</th>\n",
       "      <th>Positive</th>\n",
       "    </tr>\n",
       "  </thead>\n",
       "  <tbody>\n",
       "    <tr>\n",
       "      <th>0</th>\n",
       "      <td>0.999858</td>\n",
       "      <td>0.000085</td>\n",
       "      <td>0.000058</td>\n",
       "    </tr>\n",
       "    <tr>\n",
       "      <th>1</th>\n",
       "      <td>0.001159</td>\n",
       "      <td>0.000286</td>\n",
       "      <td>0.998555</td>\n",
       "    </tr>\n",
       "    <tr>\n",
       "      <th>2</th>\n",
       "      <td>0.001232</td>\n",
       "      <td>0.000302</td>\n",
       "      <td>0.998467</td>\n",
       "    </tr>\n",
       "    <tr>\n",
       "      <th>3</th>\n",
       "      <td>0.999858</td>\n",
       "      <td>0.000053</td>\n",
       "      <td>0.000089</td>\n",
       "    </tr>\n",
       "    <tr>\n",
       "      <th>4</th>\n",
       "      <td>0.999858</td>\n",
       "      <td>0.000085</td>\n",
       "      <td>0.000058</td>\n",
       "    </tr>\n",
       "  </tbody>\n",
       "</table>\n",
       "</div>"
      ],
      "text/plain": [
       "    Neutral  Negative  Positive\n",
       "0  0.999858  0.000085  0.000058\n",
       "1  0.001159  0.000286  0.998555\n",
       "2  0.001232  0.000302  0.998467\n",
       "3  0.999858  0.000053  0.000089\n",
       "4  0.999858  0.000085  0.000058"
      ]
     },
     "execution_count": 40,
     "metadata": {},
     "output_type": "execute_result"
    }
   ],
   "source": [
    "new_df.head()"
   ]
  },
  {
   "cell_type": "code",
   "execution_count": 42,
   "metadata": {},
   "outputs": [
    {
     "data": {
      "text/html": [
       "<div>\n",
       "<style scoped>\n",
       "    .dataframe tbody tr th:only-of-type {\n",
       "        vertical-align: middle;\n",
       "    }\n",
       "\n",
       "    .dataframe tbody tr th {\n",
       "        vertical-align: top;\n",
       "    }\n",
       "\n",
       "    .dataframe thead th {\n",
       "        text-align: right;\n",
       "    }\n",
       "</style>\n",
       "<table border=\"1\" class=\"dataframe\">\n",
       "  <thead>\n",
       "    <tr style=\"text-align: right;\">\n",
       "      <th></th>\n",
       "      <th>Date</th>\n",
       "      <th>Open</th>\n",
       "      <th>High</th>\n",
       "      <th>Low</th>\n",
       "      <th>Close</th>\n",
       "      <th>Adj Close</th>\n",
       "      <th>Volume</th>\n",
       "      <th>Titles</th>\n",
       "      <th>Neutral</th>\n",
       "      <th>Negative</th>\n",
       "      <th>Positive</th>\n",
       "    </tr>\n",
       "  </thead>\n",
       "  <tbody>\n",
       "    <tr>\n",
       "      <th>0</th>\n",
       "      <td>2019-03-13</td>\n",
       "      <td>184.449997</td>\n",
       "      <td>184.899994</td>\n",
       "      <td>180.399994</td>\n",
       "      <td>181.699997</td>\n",
       "      <td>181.135452</td>\n",
       "      <td>9769821.0</td>\n",
       "      <td>NaN</td>\n",
       "      <td>0.999858</td>\n",
       "      <td>0.000085</td>\n",
       "      <td>0.000058</td>\n",
       "    </tr>\n",
       "    <tr>\n",
       "      <th>1</th>\n",
       "      <td>2019-03-14</td>\n",
       "      <td>181.500000</td>\n",
       "      <td>182.449997</td>\n",
       "      <td>177.649994</td>\n",
       "      <td>179.550003</td>\n",
       "      <td>178.992142</td>\n",
       "      <td>15737080.0</td>\n",
       "      <td>Geneva 2019: Tata Motors To Reveal New Generat...</td>\n",
       "      <td>0.001159</td>\n",
       "      <td>0.000286</td>\n",
       "      <td>0.998555</td>\n",
       "    </tr>\n",
       "    <tr>\n",
       "      <th>2</th>\n",
       "      <td>2019-03-15</td>\n",
       "      <td>180.199997</td>\n",
       "      <td>181.399994</td>\n",
       "      <td>177.600006</td>\n",
       "      <td>180.000000</td>\n",
       "      <td>179.440735</td>\n",
       "      <td>17490993.0</td>\n",
       "      <td>Not just Tata Motors, a lot of other companies...</td>\n",
       "      <td>0.001232</td>\n",
       "      <td>0.000302</td>\n",
       "      <td>0.998467</td>\n",
       "    </tr>\n",
       "    <tr>\n",
       "      <th>3</th>\n",
       "      <td>2019-03-17</td>\n",
       "      <td>NaN</td>\n",
       "      <td>NaN</td>\n",
       "      <td>NaN</td>\n",
       "      <td>NaN</td>\n",
       "      <td>NaN</td>\n",
       "      <td>NaN</td>\n",
       "      <td>Geneva 2019: Tata Motors To Reveal New Generat...</td>\n",
       "      <td>0.999858</td>\n",
       "      <td>0.000053</td>\n",
       "      <td>0.000089</td>\n",
       "    </tr>\n",
       "    <tr>\n",
       "      <th>4</th>\n",
       "      <td>2019-03-18</td>\n",
       "      <td>181.000000</td>\n",
       "      <td>184.699997</td>\n",
       "      <td>179.500000</td>\n",
       "      <td>182.250000</td>\n",
       "      <td>181.683746</td>\n",
       "      <td>14690339.0</td>\n",
       "      <td>NaN</td>\n",
       "      <td>0.999858</td>\n",
       "      <td>0.000085</td>\n",
       "      <td>0.000058</td>\n",
       "    </tr>\n",
       "  </tbody>\n",
       "</table>\n",
       "</div>"
      ],
      "text/plain": [
       "         Date        Open        High         Low       Close   Adj Close  \\\n",
       "0  2019-03-13  184.449997  184.899994  180.399994  181.699997  181.135452   \n",
       "1  2019-03-14  181.500000  182.449997  177.649994  179.550003  178.992142   \n",
       "2  2019-03-15  180.199997  181.399994  177.600006  180.000000  179.440735   \n",
       "3  2019-03-17         NaN         NaN         NaN         NaN         NaN   \n",
       "4  2019-03-18  181.000000  184.699997  179.500000  182.250000  181.683746   \n",
       "\n",
       "       Volume                                             Titles   Neutral  \\\n",
       "0   9769821.0                                                NaN  0.999858   \n",
       "1  15737080.0  Geneva 2019: Tata Motors To Reveal New Generat...  0.001159   \n",
       "2  17490993.0  Not just Tata Motors, a lot of other companies...  0.001232   \n",
       "3         NaN  Geneva 2019: Tata Motors To Reveal New Generat...  0.999858   \n",
       "4  14690339.0                                                NaN  0.999858   \n",
       "\n",
       "   Negative  Positive  \n",
       "0  0.000085  0.000058  \n",
       "1  0.000286  0.998555  \n",
       "2  0.000302  0.998467  \n",
       "3  0.000053  0.000089  \n",
       "4  0.000085  0.000058  "
      ]
     },
     "execution_count": 42,
     "metadata": {},
     "output_type": "execute_result"
    }
   ],
   "source": [
    "merged_df = pd.concat([df, new_df], axis=1)\n",
    "\n",
    "merged_df.head()"
   ]
  },
  {
   "cell_type": "code",
   "execution_count": 43,
   "metadata": {},
   "outputs": [],
   "source": [
    "merged_df.to_csv('merged_data.csv', index=False)"
   ]
  }
 ],
 "metadata": {
  "kernelspec": {
   "display_name": "Python 3",
   "language": "python",
   "name": "python3"
  },
  "language_info": {
   "codemirror_mode": {
    "name": "ipython",
    "version": 3
   },
   "file_extension": ".py",
   "mimetype": "text/x-python",
   "name": "python",
   "nbconvert_exporter": "python",
   "pygments_lexer": "ipython3",
   "version": "3.11.6"
  }
 },
 "nbformat": 4,
 "nbformat_minor": 2
}
